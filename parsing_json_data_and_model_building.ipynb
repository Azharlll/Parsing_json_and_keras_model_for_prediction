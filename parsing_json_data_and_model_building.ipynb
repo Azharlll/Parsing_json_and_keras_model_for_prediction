{
 "cells": [
  {
   "cell_type": "code",
   "execution_count": 1,
   "metadata": {},
   "outputs": [],
   "source": [
    "# Importing Python libraries\n",
    "import json\n",
    "import pandas as pd\n",
    "import numpy as np"
   ]
  },
  {
   "cell_type": "code",
   "execution_count": 2,
   "metadata": {},
   "outputs": [],
   "source": [
    "import warnings\n",
    "warnings.filterwarnings('ignore')"
   ]
  },
  {
   "cell_type": "code",
   "execution_count": 3,
   "metadata": {},
   "outputs": [],
   "source": [
    "# Importing libraries for data preprocessing , cleaning\n",
    "from sklearn import preprocessing\n",
    "from collections import Counter\n",
    "from sklearn.preprocessing import StandardScaler\n",
    "import string\n",
    "from sklearn.feature_extraction.text import TfidfVectorizer\n",
    "from sklearn.preprocessing import OneHotEncoder"
   ]
  },
  {
   "cell_type": "code",
   "execution_count": null,
   "metadata": {},
   "outputs": [],
   "source": []
  },
  {
   "cell_type": "code",
   "execution_count": 4,
   "metadata": {},
   "outputs": [
    {
     "name": "stderr",
     "output_type": "stream",
     "text": [
      "Using TensorFlow backend.\n"
     ]
    }
   ],
   "source": [
    "# importing keras libraries for model building\n",
    "from keras.models import Sequential\n",
    "from keras.layers import Dense\n",
    "from keras.wrappers.scikit_learn import KerasClassifier\n",
    "from keras.utils import np_utils\n",
    "from sklearn.model_selection import cross_val_score\n",
    "from sklearn.model_selection import KFold"
   ]
  },
  {
   "cell_type": "code",
   "execution_count": 5,
   "metadata": {},
   "outputs": [],
   "source": [
    "# Reading the json records and appending in a list\n",
    "tweets = []\n",
    "for line in open('customersdata.json', 'r'):\n",
    "    tweets.append(json.loads(line))"
   ]
  },
  {
   "cell_type": "code",
   "execution_count": 6,
   "metadata": {},
   "outputs": [],
   "source": [
    "fraudulent=[]\n",
    "customerEmail=[]\n",
    "customerPhone=[]\n",
    "customerDevice=[]\n",
    "customerIPAddress=[]\n",
    "customerBillingAddress=[]\n",
    "\n",
    "orderId=[]\n",
    "orderAmount=[]\n",
    "orderState=[]\n",
    "orderShippingAddress=[]\n",
    "\n",
    "paymentMethodId=[]\n",
    "paymentMethodRegistrationFailure=[]\n",
    "paymentMethodType=[]\n",
    "paymentMethodProvider=[]\n",
    "paymentMethodIssuer=[]\n",
    "\n",
    "transactionFailed=[]"
   ]
  },
  {
   "cell_type": "code",
   "execution_count": 7,
   "metadata": {},
   "outputs": [],
   "source": [
    "# Iterating through the json records and fetching out data and then finally appending the values in particular list.\n",
    "for dic1 in tweets:\n",
    "    \n",
    "    for i in range(len(dic1['orders'])):\n",
    "        vl=list(dic1['customer'].values())\n",
    "        frd=dic1['fraudulent']\n",
    "        customerEmail.append(vl[0])\n",
    "        customerPhone.append(vl[1])\n",
    "        customerDevice.append(vl[2])\n",
    "        customerIPAddress.append(vl[3])\n",
    "        customerBillingAddress.append(vl[4])\n",
    "        fraudulent.append(frd)\n",
    "\n",
    "    for i in range(len(dic1['orders'])):\n",
    "        dc=dic1['orders'][i]\n",
    "        vl=list(dc.values())\n",
    "        orderId.append(vl[0])\n",
    "        orderAmount.append(vl[1])\n",
    "        orderState.append(vl[2])\n",
    "        orderShippingAddress.append(vl[3])\n",
    "\n",
    "    for i in range(len(dic1['orders'])):\n",
    "        if len(dic1['orders'])>len(dic1['paymentMethods']):\n",
    "            dc=dic1['paymentMethods'][0]\n",
    "            vl=list(dc.values())\n",
    "            paymentMethodId.append(vl[0])\n",
    "            paymentMethodRegistrationFailure.append(vl[1])\n",
    "            paymentMethodType.append(vl[2])\n",
    "            paymentMethodProvider.append(vl[3])\n",
    "            paymentMethodIssuer.append(vl[4])\n",
    "        else:\n",
    "    \n",
    "            dc=dic1['paymentMethods'][i]\n",
    "            vl=list(dc.values())\n",
    "            paymentMethodId.append(vl[0])\n",
    "            paymentMethodRegistrationFailure.append(vl[1])\n",
    "            paymentMethodType.append(vl[2])\n",
    "            paymentMethodProvider.append(vl[3])\n",
    "            paymentMethodIssuer.append(vl[4])\n",
    "\n",
    "    for i in range(len(dic1['orders'])):\n",
    "        dc=dic1['transactions'][i]\n",
    "        vl=list(dc.values())\n",
    "        transactionFailed.append(vl[4])\n",
    "\n",
    "\n",
    "\n"
   ]
  },
  {
   "cell_type": "code",
   "execution_count": 8,
   "metadata": {},
   "outputs": [],
   "source": [
    "# \n",
    "df=pd.DataFrame()"
   ]
  },
  {
   "cell_type": "code",
   "execution_count": 9,
   "metadata": {},
   "outputs": [],
   "source": [
    "df['fraudulent']=fraudulent\n",
    "df['paymentMethodId']=paymentMethodId\n",
    "df['paymentMethodIssuer']=paymentMethodIssuer\n",
    "df['paymentMethodProvider']=paymentMethodProvider\n",
    "df['paymentMethodRegistrationFailure']=paymentMethodRegistrationFailure\n",
    "df['paymentMethodType']=paymentMethodType\n",
    "df['orderId']=orderId\n",
    "df['orderAmount']=orderAmount\n",
    "df['orderShippingAddress']=orderShippingAddress\n",
    "df['orderState']=orderState\n",
    "df['transactionFailed']=transactionFailed"
   ]
  },
  {
   "cell_type": "code",
   "execution_count": 10,
   "metadata": {},
   "outputs": [
    {
     "data": {
      "text/html": [
       "<div>\n",
       "<style scoped>\n",
       "    .dataframe tbody tr th:only-of-type {\n",
       "        vertical-align: middle;\n",
       "    }\n",
       "\n",
       "    .dataframe tbody tr th {\n",
       "        vertical-align: top;\n",
       "    }\n",
       "\n",
       "    .dataframe thead th {\n",
       "        text-align: right;\n",
       "    }\n",
       "</style>\n",
       "<table border=\"1\" class=\"dataframe\">\n",
       "  <thead>\n",
       "    <tr style=\"text-align: right;\">\n",
       "      <th></th>\n",
       "      <th>fraudulent</th>\n",
       "      <th>paymentMethodId</th>\n",
       "      <th>paymentMethodIssuer</th>\n",
       "      <th>paymentMethodProvider</th>\n",
       "      <th>paymentMethodRegistrationFailure</th>\n",
       "      <th>paymentMethodType</th>\n",
       "      <th>orderId</th>\n",
       "      <th>orderAmount</th>\n",
       "      <th>orderShippingAddress</th>\n",
       "      <th>orderState</th>\n",
       "      <th>transactionFailed</th>\n",
       "    </tr>\n",
       "  </thead>\n",
       "  <tbody>\n",
       "    <tr>\n",
       "      <td>0</td>\n",
       "      <td>False</td>\n",
       "      <td>wt07xm68b</td>\n",
       "      <td>Citizens First Banks</td>\n",
       "      <td>JCB 16 digit</td>\n",
       "      <td>True</td>\n",
       "      <td>card</td>\n",
       "      <td>vjbdvd</td>\n",
       "      <td>18</td>\n",
       "      <td>5493 Jones Islands\\nBrownside, CA 51896</td>\n",
       "      <td>pending</td>\n",
       "      <td>False</td>\n",
       "    </tr>\n",
       "    <tr>\n",
       "      <td>1</td>\n",
       "      <td>False</td>\n",
       "      <td>wt07xm68b</td>\n",
       "      <td>Citizens First Banks</td>\n",
       "      <td>JCB 16 digit</td>\n",
       "      <td>True</td>\n",
       "      <td>card</td>\n",
       "      <td>yp6x27</td>\n",
       "      <td>26</td>\n",
       "      <td>5493 Jones Islands\\nBrownside, CA 51896</td>\n",
       "      <td>fulfilled</td>\n",
       "      <td>False</td>\n",
       "    </tr>\n",
       "    <tr>\n",
       "      <td>2</td>\n",
       "      <td>True</td>\n",
       "      <td>y3xp697jx</td>\n",
       "      <td>Solace Banks</td>\n",
       "      <td>VISA 16 digit</td>\n",
       "      <td>True</td>\n",
       "      <td>bitcoin</td>\n",
       "      <td>nlghpa</td>\n",
       "      <td>45</td>\n",
       "      <td>898 Henry Ports\\nNew Keithview, CA 95893-2497</td>\n",
       "      <td>fulfilled</td>\n",
       "      <td>False</td>\n",
       "    </tr>\n",
       "    <tr>\n",
       "      <td>3</td>\n",
       "      <td>True</td>\n",
       "      <td>6krszxc05</td>\n",
       "      <td>Vertex Bancorp</td>\n",
       "      <td>VISA 16 digit</td>\n",
       "      <td>False</td>\n",
       "      <td>card</td>\n",
       "      <td>uw0eeb</td>\n",
       "      <td>23</td>\n",
       "      <td>356 Elizabeth Inlet Suite 120\\nPort Joshuabury...</td>\n",
       "      <td>fulfilled</td>\n",
       "      <td>False</td>\n",
       "    </tr>\n",
       "    <tr>\n",
       "      <td>4</td>\n",
       "      <td>True</td>\n",
       "      <td>5z1szj2he</td>\n",
       "      <td>His Majesty Bank Corp.</td>\n",
       "      <td>Diners Club / Carte Blanche</td>\n",
       "      <td>False</td>\n",
       "      <td>card</td>\n",
       "      <td>bn44oh</td>\n",
       "      <td>43</td>\n",
       "      <td>5093 Bryan Forks\\nJoshuaton, FM 01565-9801</td>\n",
       "      <td>fulfilled</td>\n",
       "      <td>True</td>\n",
       "    </tr>\n",
       "    <tr>\n",
       "      <td>...</td>\n",
       "      <td>...</td>\n",
       "      <td>...</td>\n",
       "      <td>...</td>\n",
       "      <td>...</td>\n",
       "      <td>...</td>\n",
       "      <td>...</td>\n",
       "      <td>...</td>\n",
       "      <td>...</td>\n",
       "      <td>...</td>\n",
       "      <td>...</td>\n",
       "      <td>...</td>\n",
       "    </tr>\n",
       "    <tr>\n",
       "      <td>473</td>\n",
       "      <td>False</td>\n",
       "      <td>f0xnu5om9</td>\n",
       "      <td>His Majesty Bank Corp.</td>\n",
       "      <td>JCB 16 digit</td>\n",
       "      <td>False</td>\n",
       "      <td>card</td>\n",
       "      <td>ow1cih</td>\n",
       "      <td>23</td>\n",
       "      <td>130 Kimberly Junctions\\nEricmouth, KS 59756-2919</td>\n",
       "      <td>fulfilled</td>\n",
       "      <td>False</td>\n",
       "    </tr>\n",
       "    <tr>\n",
       "      <td>474</td>\n",
       "      <td>False</td>\n",
       "      <td>f0xnu5om9</td>\n",
       "      <td>His Majesty Bank Corp.</td>\n",
       "      <td>JCB 16 digit</td>\n",
       "      <td>False</td>\n",
       "      <td>card</td>\n",
       "      <td>ak5a9n</td>\n",
       "      <td>32</td>\n",
       "      <td>750 Sarah Stream\\nAndersonfurt, WI 68970</td>\n",
       "      <td>fulfilled</td>\n",
       "      <td>False</td>\n",
       "    </tr>\n",
       "    <tr>\n",
       "      <td>475</td>\n",
       "      <td>False</td>\n",
       "      <td>f0xnu5om9</td>\n",
       "      <td>His Majesty Bank Corp.</td>\n",
       "      <td>JCB 16 digit</td>\n",
       "      <td>False</td>\n",
       "      <td>card</td>\n",
       "      <td>1bubxa</td>\n",
       "      <td>25</td>\n",
       "      <td>130 Kimberly Junctions\\nEricmouth, KS 59756-2919</td>\n",
       "      <td>fulfilled</td>\n",
       "      <td>True</td>\n",
       "    </tr>\n",
       "    <tr>\n",
       "      <td>476</td>\n",
       "      <td>False</td>\n",
       "      <td>f0xnu5om9</td>\n",
       "      <td>His Majesty Bank Corp.</td>\n",
       "      <td>JCB 16 digit</td>\n",
       "      <td>False</td>\n",
       "      <td>card</td>\n",
       "      <td>p0gdbf</td>\n",
       "      <td>19</td>\n",
       "      <td>130 Kimberly Junctions\\nEricmouth, KS 59756-2919</td>\n",
       "      <td>fulfilled</td>\n",
       "      <td>True</td>\n",
       "    </tr>\n",
       "    <tr>\n",
       "      <td>477</td>\n",
       "      <td>False</td>\n",
       "      <td>f0xnu5om9</td>\n",
       "      <td>His Majesty Bank Corp.</td>\n",
       "      <td>JCB 16 digit</td>\n",
       "      <td>False</td>\n",
       "      <td>card</td>\n",
       "      <td>5lmvrj</td>\n",
       "      <td>27</td>\n",
       "      <td>539 Branch Shore\\nLake Roy, IA 11884</td>\n",
       "      <td>fulfilled</td>\n",
       "      <td>False</td>\n",
       "    </tr>\n",
       "  </tbody>\n",
       "</table>\n",
       "<p>478 rows × 11 columns</p>\n",
       "</div>"
      ],
      "text/plain": [
       "     fraudulent paymentMethodId     paymentMethodIssuer  \\\n",
       "0         False       wt07xm68b    Citizens First Banks   \n",
       "1         False       wt07xm68b    Citizens First Banks   \n",
       "2          True       y3xp697jx            Solace Banks   \n",
       "3          True       6krszxc05          Vertex Bancorp   \n",
       "4          True       5z1szj2he  His Majesty Bank Corp.   \n",
       "..          ...             ...                     ...   \n",
       "473       False       f0xnu5om9  His Majesty Bank Corp.   \n",
       "474       False       f0xnu5om9  His Majesty Bank Corp.   \n",
       "475       False       f0xnu5om9  His Majesty Bank Corp.   \n",
       "476       False       f0xnu5om9  His Majesty Bank Corp.   \n",
       "477       False       f0xnu5om9  His Majesty Bank Corp.   \n",
       "\n",
       "           paymentMethodProvider  paymentMethodRegistrationFailure  \\\n",
       "0                   JCB 16 digit                              True   \n",
       "1                   JCB 16 digit                              True   \n",
       "2                  VISA 16 digit                              True   \n",
       "3                  VISA 16 digit                             False   \n",
       "4    Diners Club / Carte Blanche                             False   \n",
       "..                           ...                               ...   \n",
       "473                 JCB 16 digit                             False   \n",
       "474                 JCB 16 digit                             False   \n",
       "475                 JCB 16 digit                             False   \n",
       "476                 JCB 16 digit                             False   \n",
       "477                 JCB 16 digit                             False   \n",
       "\n",
       "    paymentMethodType orderId  orderAmount  \\\n",
       "0                card  vjbdvd           18   \n",
       "1                card  yp6x27           26   \n",
       "2             bitcoin  nlghpa           45   \n",
       "3                card  uw0eeb           23   \n",
       "4                card  bn44oh           43   \n",
       "..                ...     ...          ...   \n",
       "473              card  ow1cih           23   \n",
       "474              card  ak5a9n           32   \n",
       "475              card  1bubxa           25   \n",
       "476              card  p0gdbf           19   \n",
       "477              card  5lmvrj           27   \n",
       "\n",
       "                                  orderShippingAddress orderState  \\\n",
       "0              5493 Jones Islands\\nBrownside, CA 51896    pending   \n",
       "1              5493 Jones Islands\\nBrownside, CA 51896  fulfilled   \n",
       "2        898 Henry Ports\\nNew Keithview, CA 95893-2497  fulfilled   \n",
       "3    356 Elizabeth Inlet Suite 120\\nPort Joshuabury...  fulfilled   \n",
       "4           5093 Bryan Forks\\nJoshuaton, FM 01565-9801  fulfilled   \n",
       "..                                                 ...        ...   \n",
       "473   130 Kimberly Junctions\\nEricmouth, KS 59756-2919  fulfilled   \n",
       "474           750 Sarah Stream\\nAndersonfurt, WI 68970  fulfilled   \n",
       "475   130 Kimberly Junctions\\nEricmouth, KS 59756-2919  fulfilled   \n",
       "476   130 Kimberly Junctions\\nEricmouth, KS 59756-2919  fulfilled   \n",
       "477               539 Branch Shore\\nLake Roy, IA 11884  fulfilled   \n",
       "\n",
       "     transactionFailed  \n",
       "0                False  \n",
       "1                False  \n",
       "2                False  \n",
       "3                False  \n",
       "4                 True  \n",
       "..                 ...  \n",
       "473              False  \n",
       "474              False  \n",
       "475               True  \n",
       "476               True  \n",
       "477              False  \n",
       "\n",
       "[478 rows x 11 columns]"
      ]
     },
     "execution_count": 10,
     "metadata": {},
     "output_type": "execute_result"
    }
   ],
   "source": [
    "df"
   ]
  },
  {
   "cell_type": "code",
   "execution_count": 43,
   "metadata": {},
   "outputs": [],
   "source": [
    "# saving the parsed json data in csv\n",
    "df.to_csv('customer_parsed_data.csv')"
   ]
  },
  {
   "cell_type": "code",
   "execution_count": 12,
   "metadata": {},
   "outputs": [],
   "source": [
    "# Defining function for one hot encoding categorcal columns.\n",
    "from sklearn.preprocessing import LabelBinarizer\n",
    "dat=[]\n",
    "def catego_enco(df,col):\n",
    "    values=np.array(df[col].tolist())\n",
    "    label_encoder = preprocessing.LabelEncoder() \n",
    "    #label_encoder.fit(data[col])\n",
    "    int_enco=label_encoder.fit_transform(values)\n",
    "    \n",
    "    \n",
    "    \n",
    "    onehotencoder = OneHotEncoder(sparse=False) \n",
    "    int_enco=int_enco.reshape(len(int_enco),1)\n",
    "    onehot_encoded=onehotencoder.fit_transform(int_enco)\n",
    "    df4=pd.DataFrame(onehot_encoded).add_prefix(col+'_')\n",
    "    dat.append(df4)\n",
    "\n",
    "    \n",
    "    return(label_encoder,onehotencoder)"
   ]
  },
  {
   "cell_type": "code",
   "execution_count": 13,
   "metadata": {},
   "outputs": [],
   "source": [
    "# Defining function for label encoding categorical variables\n",
    "def Label_enco(df,col):\n",
    "    values=np.array(df[col].tolist())\n",
    "    label_encoder3 = preprocessing.LabelEncoder() \n",
    "    #label_encoder.fit(data[col])\n",
    "    int_enco=label_encoder3.fit_transform(values)\n",
    "    #print(int_enco)\n",
    "    return(int_enco,label_encoder3)"
   ]
  },
  {
   "cell_type": "code",
   "execution_count": 14,
   "metadata": {},
   "outputs": [],
   "source": [
    "# scalling the dataset for better performance of model and reducing complexity\n",
    "from sklearn.preprocessing import StandardScaler\n",
    "def numeric_scaller(df,col):\n",
    "    scaller=StandardScaler()\n",
    "    scalled=scaller.fit_transform(df[col].values.reshape(-1,1))\n",
    "    return(scaller,scalled)"
   ]
  },
  {
   "cell_type": "code",
   "execution_count": 15,
   "metadata": {},
   "outputs": [
    {
     "data": {
      "text/plain": [
       "Index(['fraudulent', 'paymentMethodId', 'paymentMethodIssuer',\n",
       "       'paymentMethodProvider', 'paymentMethodRegistrationFailure',\n",
       "       'paymentMethodType', 'orderId', 'orderAmount', 'orderShippingAddress',\n",
       "       'orderState', 'transactionFailed'],\n",
       "      dtype='object')"
      ]
     },
     "execution_count": 15,
     "metadata": {},
     "output_type": "execute_result"
    }
   ],
   "source": [
    "df.columns"
   ]
  },
  {
   "cell_type": "code",
   "execution_count": 16,
   "metadata": {},
   "outputs": [],
   "source": [
    "#binary_categorical_cols=['fraudulent',  'paymentMethodRegistrationFailure','orderState', 'transactionFailed']"
   ]
  },
  {
   "cell_type": "code",
   "execution_count": 17,
   "metadata": {},
   "outputs": [],
   "source": [
    "binary_categorical_cols=['fraudulent', 'paymentMethodId', 'paymentMethodIssuer',\n",
    "       'paymentMethodProvider', 'paymentMethodRegistrationFailure',\n",
    "       'paymentMethodType', 'orderId', 'orderShippingAddress',\n",
    "       'orderState', 'transactionFailed']"
   ]
  },
  {
   "cell_type": "code",
   "execution_count": null,
   "metadata": {},
   "outputs": [],
   "source": []
  },
  {
   "cell_type": "code",
   "execution_count": 18,
   "metadata": {},
   "outputs": [],
   "source": [
    "num_scaller_ins=[]\n",
    "c,scalled_OrderAmount=numeric_scaller(df,'orderAmount')\n",
    "num_scaller_ins.append(c)"
   ]
  },
  {
   "cell_type": "code",
   "execution_count": 19,
   "metadata": {},
   "outputs": [],
   "source": [
    "binary_encoded_cols=[]\n",
    "binary_ecoder_ins=[]\n",
    "for i in binary_categorical_cols:\n",
    "    binary_ecoded,be=Label_enco(df,i)\n",
    "    binary_encoded_cols.append(binary_ecoded)\n",
    "    binary_ecoder_ins.append(be)\n",
    "    "
   ]
  },
  {
   "cell_type": "code",
   "execution_count": 20,
   "metadata": {},
   "outputs": [
    {
     "data": {
      "text/plain": [
       "10"
      ]
     },
     "execution_count": 20,
     "metadata": {},
     "output_type": "execute_result"
    }
   ],
   "source": [
    "len(binary_encoded_cols)"
   ]
  },
  {
   "cell_type": "code",
   "execution_count": 21,
   "metadata": {},
   "outputs": [
    {
     "data": {
      "text/plain": [
       "[]"
      ]
     },
     "execution_count": 21,
     "metadata": {},
     "output_type": "execute_result"
    }
   ],
   "source": [
    "dat"
   ]
  },
  {
   "cell_type": "code",
   "execution_count": 22,
   "metadata": {},
   "outputs": [],
   "source": [
    "df2 = pd.DataFrame()\n",
    "#ind=data.index\n",
    "#df.set_index(ind,inplace=True)"
   ]
  },
  {
   "cell_type": "code",
   "execution_count": 23,
   "metadata": {},
   "outputs": [],
   "source": [
    "df2['fraudulent']=binary_encoded_cols[0]\n",
    "df2['paymentMethodId']=binary_encoded_cols[1]\n",
    "df2['paymentMethodIssuer']=binary_encoded_cols[1]\n",
    "df2['paymentMethodProvider']=binary_encoded_cols[1]\n",
    "df2['paymentMethodRegistrationFailure']=binary_encoded_cols[1]\n",
    "df2['paymentMethodType']=binary_encoded_cols[1]\n",
    "df2['orderId']=binary_encoded_cols[1]\n",
    "df2['orderShippingAddress']=binary_encoded_cols[1]\n",
    "df2['orderState']=binary_encoded_cols[1]\n",
    "df2['transactionFailed']=binary_encoded_cols[1]\n",
    "df2['orderAmount']=scalled_OrderAmount"
   ]
  },
  {
   "cell_type": "code",
   "execution_count": 24,
   "metadata": {},
   "outputs": [
    {
     "data": {
      "text/html": [
       "<div>\n",
       "<style scoped>\n",
       "    .dataframe tbody tr th:only-of-type {\n",
       "        vertical-align: middle;\n",
       "    }\n",
       "\n",
       "    .dataframe tbody tr th {\n",
       "        vertical-align: top;\n",
       "    }\n",
       "\n",
       "    .dataframe thead th {\n",
       "        text-align: right;\n",
       "    }\n",
       "</style>\n",
       "<table border=\"1\" class=\"dataframe\">\n",
       "  <thead>\n",
       "    <tr style=\"text-align: right;\">\n",
       "      <th></th>\n",
       "      <th>fraudulent</th>\n",
       "      <th>paymentMethodId</th>\n",
       "      <th>paymentMethodIssuer</th>\n",
       "      <th>paymentMethodProvider</th>\n",
       "      <th>paymentMethodRegistrationFailure</th>\n",
       "      <th>paymentMethodType</th>\n",
       "      <th>orderId</th>\n",
       "      <th>orderShippingAddress</th>\n",
       "      <th>orderState</th>\n",
       "      <th>transactionFailed</th>\n",
       "      <th>orderAmount</th>\n",
       "    </tr>\n",
       "  </thead>\n",
       "  <tbody>\n",
       "    <tr>\n",
       "      <td>0</td>\n",
       "      <td>0</td>\n",
       "      <td>163</td>\n",
       "      <td>163</td>\n",
       "      <td>163</td>\n",
       "      <td>163</td>\n",
       "      <td>163</td>\n",
       "      <td>163</td>\n",
       "      <td>163</td>\n",
       "      <td>163</td>\n",
       "      <td>163</td>\n",
       "      <td>-0.813444</td>\n",
       "    </tr>\n",
       "    <tr>\n",
       "      <td>1</td>\n",
       "      <td>0</td>\n",
       "      <td>163</td>\n",
       "      <td>163</td>\n",
       "      <td>163</td>\n",
       "      <td>163</td>\n",
       "      <td>163</td>\n",
       "      <td>163</td>\n",
       "      <td>163</td>\n",
       "      <td>163</td>\n",
       "      <td>163</td>\n",
       "      <td>-0.443837</td>\n",
       "    </tr>\n",
       "    <tr>\n",
       "      <td>2</td>\n",
       "      <td>1</td>\n",
       "      <td>170</td>\n",
       "      <td>170</td>\n",
       "      <td>170</td>\n",
       "      <td>170</td>\n",
       "      <td>170</td>\n",
       "      <td>170</td>\n",
       "      <td>170</td>\n",
       "      <td>170</td>\n",
       "      <td>170</td>\n",
       "      <td>0.433979</td>\n",
       "    </tr>\n",
       "    <tr>\n",
       "      <td>3</td>\n",
       "      <td>1</td>\n",
       "      <td>39</td>\n",
       "      <td>39</td>\n",
       "      <td>39</td>\n",
       "      <td>39</td>\n",
       "      <td>39</td>\n",
       "      <td>39</td>\n",
       "      <td>39</td>\n",
       "      <td>39</td>\n",
       "      <td>39</td>\n",
       "      <td>-0.582440</td>\n",
       "    </tr>\n",
       "    <tr>\n",
       "      <td>4</td>\n",
       "      <td>1</td>\n",
       "      <td>36</td>\n",
       "      <td>36</td>\n",
       "      <td>36</td>\n",
       "      <td>36</td>\n",
       "      <td>36</td>\n",
       "      <td>36</td>\n",
       "      <td>36</td>\n",
       "      <td>36</td>\n",
       "      <td>36</td>\n",
       "      <td>0.341577</td>\n",
       "    </tr>\n",
       "    <tr>\n",
       "      <td>...</td>\n",
       "      <td>...</td>\n",
       "      <td>...</td>\n",
       "      <td>...</td>\n",
       "      <td>...</td>\n",
       "      <td>...</td>\n",
       "      <td>...</td>\n",
       "      <td>...</td>\n",
       "      <td>...</td>\n",
       "      <td>...</td>\n",
       "      <td>...</td>\n",
       "      <td>...</td>\n",
       "    </tr>\n",
       "    <tr>\n",
       "      <td>473</td>\n",
       "      <td>0</td>\n",
       "      <td>77</td>\n",
       "      <td>77</td>\n",
       "      <td>77</td>\n",
       "      <td>77</td>\n",
       "      <td>77</td>\n",
       "      <td>77</td>\n",
       "      <td>77</td>\n",
       "      <td>77</td>\n",
       "      <td>77</td>\n",
       "      <td>-0.582440</td>\n",
       "    </tr>\n",
       "    <tr>\n",
       "      <td>474</td>\n",
       "      <td>0</td>\n",
       "      <td>77</td>\n",
       "      <td>77</td>\n",
       "      <td>77</td>\n",
       "      <td>77</td>\n",
       "      <td>77</td>\n",
       "      <td>77</td>\n",
       "      <td>77</td>\n",
       "      <td>77</td>\n",
       "      <td>77</td>\n",
       "      <td>-0.166632</td>\n",
       "    </tr>\n",
       "    <tr>\n",
       "      <td>475</td>\n",
       "      <td>0</td>\n",
       "      <td>77</td>\n",
       "      <td>77</td>\n",
       "      <td>77</td>\n",
       "      <td>77</td>\n",
       "      <td>77</td>\n",
       "      <td>77</td>\n",
       "      <td>77</td>\n",
       "      <td>77</td>\n",
       "      <td>77</td>\n",
       "      <td>-0.490038</td>\n",
       "    </tr>\n",
       "    <tr>\n",
       "      <td>476</td>\n",
       "      <td>0</td>\n",
       "      <td>77</td>\n",
       "      <td>77</td>\n",
       "      <td>77</td>\n",
       "      <td>77</td>\n",
       "      <td>77</td>\n",
       "      <td>77</td>\n",
       "      <td>77</td>\n",
       "      <td>77</td>\n",
       "      <td>77</td>\n",
       "      <td>-0.767243</td>\n",
       "    </tr>\n",
       "    <tr>\n",
       "      <td>477</td>\n",
       "      <td>0</td>\n",
       "      <td>77</td>\n",
       "      <td>77</td>\n",
       "      <td>77</td>\n",
       "      <td>77</td>\n",
       "      <td>77</td>\n",
       "      <td>77</td>\n",
       "      <td>77</td>\n",
       "      <td>77</td>\n",
       "      <td>77</td>\n",
       "      <td>-0.397637</td>\n",
       "    </tr>\n",
       "  </tbody>\n",
       "</table>\n",
       "<p>478 rows × 11 columns</p>\n",
       "</div>"
      ],
      "text/plain": [
       "     fraudulent  paymentMethodId  paymentMethodIssuer  paymentMethodProvider  \\\n",
       "0             0              163                  163                    163   \n",
       "1             0              163                  163                    163   \n",
       "2             1              170                  170                    170   \n",
       "3             1               39                   39                     39   \n",
       "4             1               36                   36                     36   \n",
       "..          ...              ...                  ...                    ...   \n",
       "473           0               77                   77                     77   \n",
       "474           0               77                   77                     77   \n",
       "475           0               77                   77                     77   \n",
       "476           0               77                   77                     77   \n",
       "477           0               77                   77                     77   \n",
       "\n",
       "     paymentMethodRegistrationFailure  paymentMethodType  orderId  \\\n",
       "0                                 163                163      163   \n",
       "1                                 163                163      163   \n",
       "2                                 170                170      170   \n",
       "3                                  39                 39       39   \n",
       "4                                  36                 36       36   \n",
       "..                                ...                ...      ...   \n",
       "473                                77                 77       77   \n",
       "474                                77                 77       77   \n",
       "475                                77                 77       77   \n",
       "476                                77                 77       77   \n",
       "477                                77                 77       77   \n",
       "\n",
       "     orderShippingAddress  orderState  transactionFailed  orderAmount  \n",
       "0                     163         163                163    -0.813444  \n",
       "1                     163         163                163    -0.443837  \n",
       "2                     170         170                170     0.433979  \n",
       "3                      39          39                 39    -0.582440  \n",
       "4                      36          36                 36     0.341577  \n",
       "..                    ...         ...                ...          ...  \n",
       "473                    77          77                 77    -0.582440  \n",
       "474                    77          77                 77    -0.166632  \n",
       "475                    77          77                 77    -0.490038  \n",
       "476                    77          77                 77    -0.767243  \n",
       "477                    77          77                 77    -0.397637  \n",
       "\n",
       "[478 rows x 11 columns]"
      ]
     },
     "execution_count": 24,
     "metadata": {},
     "output_type": "execute_result"
    }
   ],
   "source": [
    "df2"
   ]
  },
  {
   "cell_type": "code",
   "execution_count": 25,
   "metadata": {},
   "outputs": [],
   "source": [
    "data2=df2.copy()"
   ]
  },
  {
   "cell_type": "code",
   "execution_count": 26,
   "metadata": {},
   "outputs": [],
   "source": [
    "# poping out target column\n",
    "target=df2.pop('fraudulent')"
   ]
  },
  {
   "cell_type": "code",
   "execution_count": 27,
   "metadata": {},
   "outputs": [
    {
     "data": {
      "text/plain": [
       "array([0.8893941 , 0.01106907, 0.00676389, 0.00806703, 0.01053394,\n",
       "       0.00861144, 0.00851763, 0.01050858, 0.01306313, 0.02216026,\n",
       "       0.0113109 ])"
      ]
     },
     "execution_count": 27,
     "metadata": {},
     "output_type": "execute_result"
    }
   ],
   "source": [
    "# Finding feature importance scores\n",
    "from sklearn.ensemble import ExtraTreesClassifier as etc\n",
    "x=data2.values\n",
    "y=target.values\n",
    "model=etc()\n",
    "model.fit(x,y)\n",
    "score=model.feature_importances_\n",
    "score"
   ]
  },
  {
   "cell_type": "code",
   "execution_count": 28,
   "metadata": {},
   "outputs": [],
   "source": [
    "#appending feature names with their scores \n",
    "feature_importance=list(zip(df2.columns,score))\n",
    "from operator import itemgetter\n",
    "feature_importance=sorted(feature_importance,key=itemgetter(1),reverse=True)\n"
   ]
  },
  {
   "cell_type": "code",
   "execution_count": 29,
   "metadata": {},
   "outputs": [
    {
     "data": {
      "text/plain": [
       "[('paymentMethodId', 0.8893941039434156),\n",
       " ('orderAmount', 0.022160261789247116),\n",
       " ('transactionFailed', 0.013063134435509582),\n",
       " ('paymentMethodIssuer', 0.011069074142107439),\n",
       " ('paymentMethodType', 0.010533944231657596),\n",
       " ('orderState', 0.010508581979268865),\n",
       " ('orderId', 0.008611444374888023),\n",
       " ('orderShippingAddress', 0.008517634484442666),\n",
       " ('paymentMethodRegistrationFailure', 0.008067030669556146),\n",
       " ('paymentMethodProvider', 0.006763893869680673)]"
      ]
     },
     "execution_count": 29,
     "metadata": {},
     "output_type": "execute_result"
    }
   ],
   "source": [
    "# Important Features with their scores\n",
    "feature_importance"
   ]
  },
  {
   "cell_type": "code",
   "execution_count": 30,
   "metadata": {},
   "outputs": [],
   "source": [
    "# spliting dataset for train and test\n",
    "from sklearn.model_selection import train_test_split\n",
    "\n",
    "x_train,x_test,y_train,y_test= train_test_split(df2,target, test_size=0.2)"
   ]
  },
  {
   "cell_type": "code",
   "execution_count": 31,
   "metadata": {},
   "outputs": [
    {
     "name": "stdout",
     "output_type": "stream",
     "text": [
      "WARNING:tensorflow:From C:\\Users\\user\\AppData\\Roaming\\Python\\Python37\\site-packages\\keras\\backend\\tensorflow_backend.py:66: The name tf.get_default_graph is deprecated. Please use tf.compat.v1.get_default_graph instead.\n",
      "\n",
      "WARNING:tensorflow:From C:\\Users\\user\\AppData\\Roaming\\Python\\Python37\\site-packages\\keras\\backend\\tensorflow_backend.py:541: The name tf.placeholder is deprecated. Please use tf.compat.v1.placeholder instead.\n",
      "\n",
      "WARNING:tensorflow:From C:\\Users\\user\\AppData\\Roaming\\Python\\Python37\\site-packages\\keras\\backend\\tensorflow_backend.py:4432: The name tf.random_uniform is deprecated. Please use tf.random.uniform instead.\n",
      "\n",
      "WARNING:tensorflow:From C:\\Users\\user\\AppData\\Roaming\\Python\\Python37\\site-packages\\keras\\optimizers.py:793: The name tf.train.Optimizer is deprecated. Please use tf.compat.v1.train.Optimizer instead.\n",
      "\n",
      "WARNING:tensorflow:From C:\\Users\\user\\AppData\\Roaming\\Python\\Python37\\site-packages\\keras\\backend\\tensorflow_backend.py:3657: The name tf.log is deprecated. Please use tf.math.log instead.\n",
      "\n",
      "WARNING:tensorflow:From C:\\Users\\user\\AppData\\Roaming\\Python\\Python37\\site-packages\\tensorflow\\python\\ops\\nn_impl.py:180: add_dispatch_support.<locals>.wrapper (from tensorflow.python.ops.array_ops) is deprecated and will be removed in a future version.\n",
      "Instructions for updating:\n",
      "Use tf.where in 2.0, which has the same broadcast rule as np.where\n"
     ]
    }
   ],
   "source": [
    "model = Sequential()\n",
    "model.add(Dense(10, input_shape=(10,), activation=\"relu\"))\n",
    "model.add(Dense(7, activation=\"relu\"))\n",
    "model.add(Dense(4, activation=\"relu\"))\n",
    "model.add(Dense(1, activation=\"sigmoid\"))\n",
    "model.compile(loss='binary_crossentropy', optimizer='adam', metrics=['accuracy'])"
   ]
  },
  {
   "cell_type": "code",
   "execution_count": 32,
   "metadata": {},
   "outputs": [
    {
     "name": "stdout",
     "output_type": "stream",
     "text": [
      "WARNING:tensorflow:From C:\\Users\\user\\AppData\\Roaming\\Python\\Python37\\site-packages\\keras\\backend\\tensorflow_backend.py:1033: The name tf.assign_add is deprecated. Please use tf.compat.v1.assign_add instead.\n",
      "\n",
      "Epoch 1/50\n",
      "382/382 [==============================] - 0s 844us/step - loss: 2.2277 - acc: 0.4974\n",
      "Epoch 2/50\n",
      "382/382 [==============================] - 0s 78us/step - loss: 1.0126 - acc: 0.4503\n",
      "Epoch 3/50\n",
      "382/382 [==============================] - 0s 65us/step - loss: 0.7698 - acc: 0.4686\n",
      "Epoch 4/50\n",
      "382/382 [==============================] - 0s 81us/step - loss: 0.7276 - acc: 0.4607\n",
      "Epoch 5/50\n",
      "382/382 [==============================] - 0s 70us/step - loss: 0.7662 - acc: 0.5183\n",
      "Epoch 6/50\n",
      "382/382 [==============================] - 0s 76us/step - loss: 0.7526 - acc: 0.4895\n",
      "Epoch 7/50\n",
      "382/382 [==============================] - 0s 86us/step - loss: 0.7568 - acc: 0.4634\n",
      "Epoch 8/50\n",
      "382/382 [==============================] - 0s 91us/step - loss: 0.7962 - acc: 0.4581\n",
      "Epoch 9/50\n",
      "382/382 [==============================] - 0s 86us/step - loss: 0.7154 - acc: 0.5000\n",
      "Epoch 10/50\n",
      "382/382 [==============================] - 0s 73us/step - loss: 0.7486 - acc: 0.5445\n",
      "Epoch 11/50\n",
      "382/382 [==============================] - 0s 146us/step - loss: 0.7210 - acc: 0.4895\n",
      "Epoch 12/50\n",
      "382/382 [==============================] - 0s 183us/step - loss: 0.6916 - acc: 0.5576\n",
      "Epoch 13/50\n",
      "382/382 [==============================] - 0s 201us/step - loss: 0.7030 - acc: 0.5550\n",
      "Epoch 14/50\n",
      "382/382 [==============================] - 0s 178us/step - loss: 0.8552 - acc: 0.4895\n",
      "Epoch 15/50\n",
      "382/382 [==============================] - 0s 175us/step - loss: 0.8002 - acc: 0.5079\n",
      "Epoch 16/50\n",
      "382/382 [==============================] - 0s 178us/step - loss: 0.6742 - acc: 0.5733\n",
      "Epoch 17/50\n",
      "382/382 [==============================] - 0s 120us/step - loss: 0.6853 - acc: 0.5759\n",
      "Epoch 18/50\n",
      "382/382 [==============================] - 0s 128us/step - loss: 0.7151 - acc: 0.5497\n",
      "Epoch 19/50\n",
      "382/382 [==============================] - 0s 149us/step - loss: 0.6860 - acc: 0.5681\n",
      "Epoch 20/50\n",
      "382/382 [==============================] - 0s 136us/step - loss: 0.6819 - acc: 0.5707\n",
      "Epoch 21/50\n",
      "382/382 [==============================] - 0s 131us/step - loss: 0.6738 - acc: 0.6099\n",
      "Epoch 22/50\n",
      "382/382 [==============================] - 0s 125us/step - loss: 0.7120 - acc: 0.5628\n",
      "Epoch 23/50\n",
      "382/382 [==============================] - 0s 89us/step - loss: 0.6925 - acc: 0.6257\n",
      "Epoch 24/50\n",
      "382/382 [==============================] - 0s 128us/step - loss: 0.6813 - acc: 0.5942\n",
      "Epoch 25/50\n",
      "382/382 [==============================] - 0s 172us/step - loss: 0.6720 - acc: 0.5942\n",
      "Epoch 26/50\n",
      "382/382 [==============================] - 0s 138us/step - loss: 0.7106 - acc: 0.5785\n",
      "Epoch 27/50\n",
      "382/382 [==============================] - 0s 167us/step - loss: 0.7723 - acc: 0.5838\n",
      "Epoch 28/50\n",
      "382/382 [==============================] - 0s 131us/step - loss: 0.7054 - acc: 0.5864\n",
      "Epoch 29/50\n",
      "382/382 [==============================] - 0s 128us/step - loss: 0.7236 - acc: 0.5681\n",
      "Epoch 30/50\n",
      "382/382 [==============================] - 0s 120us/step - loss: 0.6677 - acc: 0.6204\n",
      "Epoch 31/50\n",
      "382/382 [==============================] - 0s 120us/step - loss: 0.6611 - acc: 0.6099\n",
      "Epoch 32/50\n",
      "382/382 [==============================] - 0s 115us/step - loss: 0.6578 - acc: 0.6230\n",
      "Epoch 33/50\n",
      "382/382 [==============================] - 0s 117us/step - loss: 0.6578 - acc: 0.5942\n",
      "Epoch 34/50\n",
      "382/382 [==============================] - 0s 115us/step - loss: 0.6756 - acc: 0.5942\n",
      "Epoch 35/50\n",
      "382/382 [==============================] - 0s 125us/step - loss: 0.6759 - acc: 0.5707\n",
      "Epoch 36/50\n",
      "382/382 [==============================] - 0s 81us/step - loss: 0.6565 - acc: 0.6283\n",
      "Epoch 37/50\n",
      "382/382 [==============================] - 0s 138us/step - loss: 0.6672 - acc: 0.6387\n",
      "Epoch 38/50\n",
      "382/382 [==============================] - 0s 136us/step - loss: 0.6388 - acc: 0.6518\n",
      "Epoch 39/50\n",
      "382/382 [==============================] - 0s 141us/step - loss: 0.6877 - acc: 0.6414\n",
      "Epoch 40/50\n",
      "382/382 [==============================] - 0s 94us/step - loss: 0.6742 - acc: 0.6283\n",
      "Epoch 41/50\n",
      "382/382 [==============================] - 0s 115us/step - loss: 0.6446 - acc: 0.6309\n",
      "Epoch 42/50\n",
      "382/382 [==============================] - 0s 154us/step - loss: 0.6340 - acc: 0.6545\n",
      "Epoch 43/50\n",
      "382/382 [==============================] - 0s 110us/step - loss: 0.7934 - acc: 0.5890\n",
      "Epoch 44/50\n",
      "382/382 [==============================] - 0s 117us/step - loss: 0.6542 - acc: 0.6021\n",
      "Epoch 45/50\n",
      "382/382 [==============================] - 0s 89us/step - loss: 0.6830 - acc: 0.5969\n",
      "Epoch 46/50\n",
      "382/382 [==============================] - 0s 78us/step - loss: 0.6438 - acc: 0.6518\n",
      "Epoch 47/50\n",
      "382/382 [==============================] - 0s 84us/step - loss: 0.6623 - acc: 0.6073\n",
      "Epoch 48/50\n",
      "382/382 [==============================] - 0s 81us/step - loss: 0.7474 - acc: 0.5969\n",
      "Epoch 49/50\n",
      "382/382 [==============================] - 0s 78us/step - loss: 0.6896 - acc: 0.5838\n",
      "Epoch 50/50\n",
      "382/382 [==============================] - 0s 84us/step - loss: 0.6276 - acc: 0.6754\n"
     ]
    },
    {
     "data": {
      "text/plain": [
       "<keras.callbacks.History at 0x26bfec00a58>"
      ]
     },
     "execution_count": 32,
     "metadata": {},
     "output_type": "execute_result"
    }
   ],
   "source": [
    "model.fit(x_train,y_train,batch_size=20,epochs=50)"
   ]
  },
  {
   "cell_type": "code",
   "execution_count": null,
   "metadata": {},
   "outputs": [],
   "source": []
  },
  {
   "cell_type": "code",
   "execution_count": 33,
   "metadata": {},
   "outputs": [],
   "source": [
    "# Predicting test data (unseen data)\n",
    "predicted=model.predict(x_test)"
   ]
  },
  {
   "cell_type": "code",
   "execution_count": 34,
   "metadata": {},
   "outputs": [],
   "source": [
    "pred=[]\n",
    "for i in predicted:\n",
    "    if i>=0.5:\n",
    "        pred.append(1)\n",
    "    else:\n",
    "        pred.append(0)"
   ]
  },
  {
   "cell_type": "code",
   "execution_count": 35,
   "metadata": {},
   "outputs": [
    {
     "name": "stdout",
     "output_type": "stream",
     "text": [
      "[[21 35]\n",
      " [17 23]]\n"
     ]
    }
   ],
   "source": [
    "# applying confusion matrix \n",
    "from sklearn.metrics import confusion_matrix\n",
    "conf_mat = confusion_matrix(y_test, pred)\n",
    "print(conf_mat)"
   ]
  },
  {
   "cell_type": "code",
   "execution_count": 36,
   "metadata": {},
   "outputs": [],
   "source": [
    "# finding the  proportion of actual positives was identified correctly\n",
    "recall=conf_mat[0][0]/(conf_mat[0][0]+conf_mat[1][0])"
   ]
  },
  {
   "cell_type": "code",
   "execution_count": 37,
   "metadata": {},
   "outputs": [],
   "source": [
    "# finding the proportion of positive identifications was actually correct\n",
    "precision=conf_mat[0][0]/(conf_mat[0][0]+conf_mat[0][1])"
   ]
  },
  {
   "cell_type": "code",
   "execution_count": 38,
   "metadata": {},
   "outputs": [
    {
     "data": {
      "text/plain": [
       "0.375"
      ]
     },
     "execution_count": 38,
     "metadata": {},
     "output_type": "execute_result"
    }
   ],
   "source": [
    "precision"
   ]
  },
  {
   "cell_type": "code",
   "execution_count": 39,
   "metadata": {},
   "outputs": [
    {
     "name": "stdout",
     "output_type": "stream",
     "text": [
      "              precision    recall  f1-score   support\n",
      "\n",
      "           0       0.55      0.38      0.45        56\n",
      "           1       0.40      0.57      0.47        40\n",
      "\n",
      "    accuracy                           0.46        96\n",
      "   macro avg       0.47      0.47      0.46        96\n",
      "weighted avg       0.49      0.46      0.46        96\n",
      "\n"
     ]
    }
   ],
   "source": [
    "from sklearn.metrics import classification_report\n",
    "print(classification_report(y_test,pred))"
   ]
  },
  {
   "cell_type": "code",
   "execution_count": 40,
   "metadata": {},
   "outputs": [],
   "source": [
    "Accuracy=(conf_mat[0][0]+conf_mat[1][1])/(conf_mat[0][0]+conf_mat[0][1]+conf_mat[1][0]+conf_mat[1][1])"
   ]
  },
  {
   "cell_type": "code",
   "execution_count": 42,
   "metadata": {},
   "outputs": [
    {
     "data": {
      "text/plain": [
       "['False',\n",
       " 'True',\n",
       " 'True',\n",
       " 'False',\n",
       " 'False',\n",
       " 'True',\n",
       " 'True',\n",
       " 'True',\n",
       " 'False',\n",
       " 'True',\n",
       " 'True',\n",
       " 'True',\n",
       " 'True',\n",
       " 'True',\n",
       " 'False',\n",
       " 'True',\n",
       " 'True',\n",
       " 'True',\n",
       " 'False',\n",
       " 'True',\n",
       " 'True',\n",
       " 'True',\n",
       " 'False',\n",
       " 'False',\n",
       " 'False',\n",
       " 'True',\n",
       " 'True',\n",
       " 'False',\n",
       " 'False',\n",
       " 'True',\n",
       " 'True',\n",
       " 'True',\n",
       " 'False',\n",
       " 'True',\n",
       " 'False',\n",
       " 'True',\n",
       " 'False',\n",
       " 'False',\n",
       " 'False',\n",
       " 'True',\n",
       " 'False',\n",
       " 'True',\n",
       " 'False',\n",
       " 'True',\n",
       " 'False',\n",
       " 'True',\n",
       " 'True',\n",
       " 'False',\n",
       " 'False',\n",
       " 'True',\n",
       " 'False',\n",
       " 'False',\n",
       " 'True',\n",
       " 'True',\n",
       " 'False',\n",
       " 'True',\n",
       " 'True',\n",
       " 'True',\n",
       " 'False',\n",
       " 'True',\n",
       " 'False',\n",
       " 'True',\n",
       " 'True',\n",
       " 'True',\n",
       " 'True',\n",
       " 'False',\n",
       " 'True',\n",
       " 'True',\n",
       " 'False',\n",
       " 'False',\n",
       " 'True',\n",
       " 'False',\n",
       " 'False',\n",
       " 'True',\n",
       " 'True',\n",
       " 'True',\n",
       " 'True',\n",
       " 'True',\n",
       " 'True',\n",
       " 'True',\n",
       " 'True',\n",
       " 'True',\n",
       " 'True',\n",
       " 'False',\n",
       " 'True',\n",
       " 'True',\n",
       " 'True',\n",
       " 'False',\n",
       " 'False',\n",
       " 'False',\n",
       " 'True',\n",
       " 'True',\n",
       " 'False',\n",
       " 'False',\n",
       " 'False',\n",
       " 'True']"
      ]
     },
     "execution_count": 42,
     "metadata": {},
     "output_type": "execute_result"
    }
   ],
   "source": [
    "#list of predicted value for test data\n",
    "predic=[]\n",
    "for i in pred:\n",
    "    if i==0:\n",
    "        predic.append('False')\n",
    "    else:\n",
    "        predic.append('True')\n",
    "predic"
   ]
  },
  {
   "cell_type": "code",
   "execution_count": null,
   "metadata": {},
   "outputs": [],
   "source": []
  },
  {
   "cell_type": "code",
   "execution_count": null,
   "metadata": {},
   "outputs": [],
   "source": []
  },
  {
   "cell_type": "code",
   "execution_count": null,
   "metadata": {},
   "outputs": [],
   "source": []
  }
 ],
 "metadata": {
  "kernelspec": {
   "display_name": "Python 3",
   "language": "python",
   "name": "python3"
  },
  "language_info": {
   "codemirror_mode": {
    "name": "ipython",
    "version": 3
   },
   "file_extension": ".py",
   "mimetype": "text/x-python",
   "name": "python",
   "nbconvert_exporter": "python",
   "pygments_lexer": "ipython3",
   "version": "3.7.3"
  }
 },
 "nbformat": 4,
 "nbformat_minor": 2
}
